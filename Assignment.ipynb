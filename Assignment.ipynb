{
 "cells": [
  {
   "cell_type": "markdown",
   "id": "9da439f4-fe13-427a-acfb-7bd27202ff83",
   "metadata": {},
   "source": [
    "My Jupiter Notebook on IBM Watson Studio"
   ]
  },
  {
   "cell_type": "markdown",
   "id": "83a811c9-ac79-4ea8-bc2b-b9cefbe30c5b",
   "metadata": {},
   "source": [
    "Solmi Cheon\n",
    "Data Scientist"
   ]
  },
  {
   "cell_type": "markdown",
   "id": "6b9b9708-6c4e-4bb4-ac4a-43f84bb4bbc6",
   "metadata": {},
   "source": [
    "I'm interested in data science because I can not only get insights by analyzing large data, but also improve the ways by using algorithm and machine learning."
   ]
  },
  {
   "cell_type": "markdown",
   "id": "de6df5b5-7df2-44cb-9365-f5d0224c3726",
   "metadata": {},
   "source": [
    "### The code below will generate \"Hello!\""
   ]
  },
  {
   "cell_type": "code",
   "execution_count": null,
   "id": "ce7afee6-006b-4d0f-9bc5-3e248cc62569",
   "metadata": {},
   "outputs": [],
   "source": [
    "print ('Hello!')"
   ]
  },
  {
   "cell_type": "markdown",
   "id": "8607a851-7bdc-4abb-8158-ff102e8b8f08",
   "metadata": {},
   "source": [
    "|Walmart|Target|Costco|\n",
    "|-----|-----|-----|\n",
    "|decorations|toys|meats|\n",
    "|snacks|breads|milk|\n",
    "|clothes|office supplies|electric appliances|\n",
    "\n",
    "<hr>\n",
    "\n",
    "* Programming languages\n",
    "    - Python\n",
    "    - R\n",
    "    - Julia\n",
    "    - C++\n",
    "    - Java\n"
   ]
  },
  {
   "cell_type": "code",
   "execution_count": null,
   "id": "6c924f21-51fe-4b13-b50d-025852f23e8f",
   "metadata": {},
   "outputs": [],
   "source": []
  }
 ],
 "metadata": {
  "kernelspec": {
   "display_name": "Python",
   "language": "python",
   "name": "conda-env-python-py"
  },
  "language_info": {
   "codemirror_mode": {
    "name": "ipython",
    "version": 3
   },
   "file_extension": ".py",
   "mimetype": "text/x-python",
   "name": "python",
   "nbconvert_exporter": "python",
   "pygments_lexer": "ipython3",
   "version": "3.7.12"
  }
 },
 "nbformat": 4,
 "nbformat_minor": 5
}
