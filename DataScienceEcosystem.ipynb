{
 "cells": [
  {
   "cell_type": "markdown",
   "id": "ba44ed5c-1c93-4944-bef0-e2758a8c206b",
   "metadata": {
    "tags": []
   },
   "source": [
    "# Data Science Tools and Ecosystem"
   ]
  },
  {
   "cell_type": "markdown",
   "id": "d6f48ba2-6150-4bf2-94c6-3b784f5beaac",
   "metadata": {
    "tags": []
   },
   "source": [
    "# Data Science Tools and Ecosystem"
   ]
  },
  {
   "cell_type": "markdown",
   "id": "19917236-8c6a-4b57-bb53-cff7b9e76298",
   "metadata": {},
   "source": [
    "In this notebook, Data Science Tools and Ecosystem are summarized."
   ]
  },
  {
   "cell_type": "markdown",
   "id": "e62a0162-9cbf-4494-aebb-81bf6dcbd471",
   "metadata": {},
   "source": [
    "In this notebook, Data Science Tools and Ecosystem are summarized."
   ]
  },
  {
   "cell_type": "markdown",
   "id": "0ac26c8d-4765-4585-980c-a872c793fec6",
   "metadata": {},
   "source": [
    "Objectives:\n",
    "\n",
    "* List popular languages in data science\n",
    "* List commonly used libraries in data science\n",
    "* List data science tools\n",
    "* Use arithmetic expressions "
   ]
  },
  {
   "cell_type": "markdown",
   "id": "339f3c8d-a67a-4972-a737-7b69755d7f79",
   "metadata": {},
   "source": [
    "Objectives:\n",
    "\n",
    "* List popular languages in data science\n",
    "* List commonly used libraries in data science\n",
    "* List data science tools\n",
    "* Use arithmetic expressions "
   ]
  },
  {
   "cell_type": "markdown",
   "id": "1f22200a-99e3-4cee-a4c4-ebb370938ad2",
   "metadata": {},
   "source": [
    "Some of the popular languages that Data Scientists use are:\n",
    "\n",
    "* Programming languages\n",
    "    1. Python\n",
    "    1. R\n",
    "    1. Julia\n",
    "    1. C++\n",
    "    1. Java\n",
    "    1. SQL\n",
    "    1. Scala\n",
    "    1. Ruby\n",
    "    1. PHP"
   ]
  },
  {
   "cell_type": "markdown",
   "id": "13e17498-a733-4269-9bb1-782dec68deee",
   "metadata": {},
   "source": [
    "Some of the popular languages that Data Scientists use are:\n",
    "\n",
    "* Programming languages\n",
    "    1. Python\n",
    "    1. R\n",
    "    1. Julia\n",
    "    1. C++\n",
    "    1. Java\n",
    "    1. SQL\n",
    "    1. Scala\n",
    "    1. Ruby\n",
    "    1. PHP"
   ]
  },
  {
   "cell_type": "markdown",
   "id": "d81c2b6d-3799-4431-909e-011bf812c090",
   "metadata": {},
   "source": [
    "Some of the commonly used libraries used by Data Scientists include:\n",
    "    \n",
    "* Data science libraries in Python\n",
    "    * Scientific computing libraries\n",
    "        * Pandas\n",
    "        * NumPy\n",
    "    * Visualization libraries\n",
    "        * Matplotlib\n",
    "        * Seaborn\n",
    "    * Machine learning and deep learning libraries\n",
    "        * Scikit-learn\n",
    "        * Keras\n",
    "        * TensorFlow\n",
    "        * Pytorch"
   ]
  },
  {
   "cell_type": "markdown",
   "id": "164a9eec-2cb2-4ed3-b274-c1694d04bb1f",
   "metadata": {},
   "source": [
    "Some of the commonly used libraries used by Data Scientists include:\n",
    "    \n",
    "* Data science libraries in Python\n",
    "    * Scientific computing libraries\n",
    "        * Pandas\n",
    "        * NumPy\n",
    "    * Visualization libraries\n",
    "        * Matplotlib\n",
    "        * Seaborn\n",
    "    * Machine learning and deep learning libraries\n",
    "        * Scikit-learn\n",
    "        * Keras\n",
    "        * TensorFlow\n",
    "        * Pytorch"
   ]
  },
  {
   "cell_type": "markdown",
   "id": "18a1c848-37b7-4b2b-98ae-f60883aff2ac",
   "metadata": {},
   "source": [
    "|Data Science Tools|\n",
    "|-----|\n",
    "|Jupyter|\n",
    "|Apache Zeppelin|\n",
    "|RStudio|"
   ]
  },
  {
   "cell_type": "markdown",
   "id": "7b549c40-087f-4486-b723-7bb948b68b12",
   "metadata": {},
   "source": [
    "|Data Science Tools|\n",
    "|-----|\n",
    "|Jupyter|\n",
    "|Apache Zeppelin|\n",
    "|RStudio|"
   ]
  },
  {
   "cell_type": "markdown",
   "id": "94bf1d13-7706-4b82-af98-f3321e9a8e58",
   "metadata": {},
   "source": [
    "Below are a few examples of evaluating arithmetic expressions in Python\n",
    "\n",
    "$x^2+y^2=z^2$\n",
    "\n",
    "$72\\div 9$"
   ]
  },
  {
   "cell_type": "markdown",
   "id": "9fbfc072-ad9b-4733-a5c7-8e39f3013f57",
   "metadata": {},
   "source": [
    "Below are a few examples of evaluating arithmetic expressions in Python\n",
    "\n",
    "$x^2+y^2=z^2$\n",
    "\n",
    "$72\\div 9$"
   ]
  },
  {
   "cell_type": "code",
   "execution_count": 3,
   "id": "b534fc60-6330-48e2-9978-b748587514f8",
   "metadata": {},
   "outputs": [
    {
     "data": {
      "text/plain": [
       "17"
      ]
     },
     "execution_count": 3,
     "metadata": {},
     "output_type": "execute_result"
    }
   ],
   "source": [
    "# This a simple arithmetic expression to mutiply then add integers #\n",
    "\n",
    "(3*4)+5"
   ]
  },
  {
   "cell_type": "code",
   "execution_count": 5,
   "id": "524bc5b5-07b7-4789-9ca4-2dc7b3a74a2f",
   "metadata": {},
   "outputs": [
    {
     "name": "stdout",
     "output_type": "stream",
     "text": [
      "200 minutes is equal to 3.3333333333333335 hours.\n"
     ]
    }
   ],
   "source": [
    "# This will convert 200 minutes to hours by diving by 60 #\n",
    "\n",
    "minutes = 200\n",
    "hours = minutes/60\n",
    "print (str (minutes) + ' minutes is equal to '+ str (hours) + ' hours.')"
   ]
  },
  {
   "cell_type": "markdown",
   "id": "2bcda8c8-a5b9-4cfa-97df-300ded389266",
   "metadata": {},
   "source": [
    "## Author\n",
    "\n",
    "Solmi Cheon"
   ]
  },
  {
   "cell_type": "markdown",
   "id": "f667f1bb-5b9d-4d27-a15f-e2d71e3ce291",
   "metadata": {},
   "source": [
    "## Author\n",
    "\n",
    "Solmi Cheon"
   ]
  }
 ],
 "metadata": {
  "kernelspec": {
   "display_name": "Python",
   "language": "python",
   "name": "conda-env-python-py"
  },
  "language_info": {
   "codemirror_mode": {
    "name": "ipython",
    "version": 3
   },
   "file_extension": ".py",
   "mimetype": "text/x-python",
   "name": "python",
   "nbconvert_exporter": "python",
   "pygments_lexer": "ipython3",
   "version": "3.7.12"
  }
 },
 "nbformat": 4,
 "nbformat_minor": 5
}
